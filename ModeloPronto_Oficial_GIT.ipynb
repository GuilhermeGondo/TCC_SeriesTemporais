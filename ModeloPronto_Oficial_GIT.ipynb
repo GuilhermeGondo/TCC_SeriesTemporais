{
 "cells": [
  {
   "cell_type": "code",
   "execution_count": null,
   "id": "65379ea2",
   "metadata": {},
   "outputs": [],
   "source": [
    "import numpy as np, pandas as pd, matplotlib.pyplot as plt\n",
    "import math\n",
    "from statsmodels.tsa.arima_model import ARIMA\n",
    "from sklearn.metrics import mean_squared_error, mean_absolute_error\n",
    "import warnings\n",
    "from pmdarima import auto_arima\n",
    "import statsmodels.api as sm\n",
    "from sklearn.metrics import r2_score\n",
    "from sklearn.cluster import KMeans\n",
    "from sklearn.preprocessing import StandardScaler\n",
    "from sklearn.metrics import silhouette_score"
   ]
  },
  {
   "cell_type": "code",
   "execution_count": null,
   "id": "a3000b45",
   "metadata": {},
   "outputs": [],
   "source": [
    "# Suprimir todos os warnings (não é recomendado em produção)\n",
    "warnings.filterwarnings(\"ignore\")"
   ]
  },
  {
   "cell_type": "code",
   "execution_count": null,
   "id": "be08a3b9",
   "metadata": {},
   "outputs": [],
   "source": [
    "df = pd.read_csv('consumo.csv')"
   ]
  },
  {
   "cell_type": "code",
   "execution_count": null,
   "id": "49a1d303",
   "metadata": {},
   "outputs": [],
   "source": [
    "df['dt_geracao'] = pd.to_datetime(df['dt_geracao'], format='%d-%m-%Y')"
   ]
  },
  {
   "cell_type": "code",
   "execution_count": null,
   "id": "3b63369d",
   "metadata": {},
   "outputs": [],
   "source": [
    "df['ano'] = df['dt_geracao'].dt.year"
   ]
  },
  {
   "cell_type": "code",
   "execution_count": null,
   "id": "2a7831f6",
   "metadata": {},
   "outputs": [],
   "source": [
    "df['nr_valor'] = df['nr_valor'].str.replace(',', '.').astype(float)"
   ]
  },
  {
   "cell_type": "code",
   "execution_count": null,
   "id": "b550afa0",
   "metadata": {},
   "outputs": [],
   "source": [
    "df['PreçoUnitario'] = df['nr_valor']/df['nr_quantidade']"
   ]
  },
  {
   "cell_type": "code",
   "execution_count": null,
   "id": "c7e4ddfb",
   "metadata": {},
   "outputs": [],
   "source": [
    "COVID = df[(df['ano']==2020)|(df['ano']==2021)]\n",
    "COVID = COVID.sort_values(by=['nm_material', 'dt_geracao'])\n",
    "COVID['demanda_diaria'] = -COVID['nr_qtd_estoque'].diff().where(COVID['nm_material'] == COVID['nm_material'].shift()).fillna(0)\n",
    "COVID['demanda_diaria'] = COVID['demanda_diaria'].apply(lambda x: max(0, x))\n",
    "\n",
    "\n",
    "#Métrica dias com dados\n",
    "contagem_distintos = COVID.groupby('nm_material')['dt_geracao'].nunique().reset_index()\n",
    "\n",
    "#Metrica Compra\n",
    "CompraMedia = COVID.groupby('nm_material')['nr_quantidade'].mean().reset_index()\n",
    "\n",
    "#Metricas para o estoque do produto\n",
    "mediaEstoque = COVID.groupby('nm_material')['nr_qtd_estoque'].mean().reset_index()\n",
    "minimoEstoque = COVID.groupby('nm_material')['nr_qtd_estoque'].min().reset_index()\n",
    "\n",
    "#Metrica de Demanda diária\n",
    "DemandaDiariaMedia = COVID.groupby('nm_material')['demanda_diaria'].mean().reset_index()\n",
    "\n",
    "#MetricaPreçoProduto\n",
    "PrecoUnitario = COVID.groupby('nm_material')['PreçoUnitario'].mean().reset_index()\n",
    "\n",
    "\n",
    "\n",
    "QuantidadeDatas = pd.merge(CompraMedia,mediaEstoque,how='inner',on='nm_material')\n",
    "\n",
    "QuantidadeDatas = pd.merge(QuantidadeDatas,minimoEstoque,on='nm_material')\n",
    "\n",
    "QuantidadeDatas = pd.merge(QuantidadeDatas,DemandaDiariaMedia,on='nm_material')\n",
    "\n",
    "QuantidadeDatas = pd.merge(QuantidadeDatas,PrecoUnitario,on='nm_material')\n",
    "\n",
    "QuantidadeDatas = pd.merge(QuantidadeDatas,contagem_distintos,on='nm_material')\n",
    "\n",
    "QuantidadeDatas = QuantidadeDatas[(QuantidadeDatas['dt_geracao']>20)]\n",
    "QuantidadeDatas = QuantidadeDatas.rename(columns={'nm_material': 'Material', 'nr_quantidade': 'CompreMedia', 'nr_qtd_estoque_x': 'MediaEstoque', 'nr_qtd_estoque_y': 'MinimoEstoque'})\n",
    "QuantidadeDatas['CompreMediaNorm'] = QuantidadeDatas['CompreMedia']/QuantidadeDatas['CompreMedia'].sum()\n",
    "QuantidadeDatas['MediaEstoqueNorm'] = QuantidadeDatas['MediaEstoque']/QuantidadeDatas['MediaEstoque'].sum()\n",
    "QuantidadeDatas['MinimoEstoqueNorm'] = QuantidadeDatas['MinimoEstoque']/QuantidadeDatas['MinimoEstoque'].sum()\n",
    "QuantidadeDatas['demanda_diariaNorm'] = QuantidadeDatas['demanda_diaria']/QuantidadeDatas['demanda_diaria'].sum()\n",
    "QuantidadeDatas['PreçoUnitarioNorm'] = QuantidadeDatas['PreçoUnitario']/QuantidadeDatas['PreçoUnitario'].sum()\n",
    "QuantidadeDatas['dt_geracaoNorm'] = QuantidadeDatas['dt_geracao']/QuantidadeDatas['dt_geracao'].sum()\n",
    "data_for_clustering = QuantidadeDatas[[ 'dt_geracaoNorm','CompreMediaNorm','MediaEstoqueNorm','MinimoEstoqueNorm','demanda_diariaNorm','PreçoUnitarioNorm']]\n",
    "\n",
    "# Padronizar os dados\n",
    "scaler = StandardScaler()\n",
    "X = scaler.fit_transform(data_for_clustering)\n",
    "\n",
    "# Escolher o número de clusters\n",
    "n_clusters = 5  # Substitua pelo número desejado de clusters\n",
    "\n",
    "# Aplicar o algoritmo K-Means\n",
    "kmeans = KMeans(n_clusters=n_clusters)\n",
    "clusters = kmeans.fit_predict(X)\n",
    "\n",
    "# Adicionar a coluna de clusters ao DataFrame original\n",
    "QuantidadeDatas['Cluster'] = clusters\n",
    "#Separar a lista dos itens"
   ]
  },
  {
   "cell_type": "code",
   "execution_count": null,
   "id": "8602e83e",
   "metadata": {},
   "outputs": [],
   "source": [
    "silhouette_scores = []\n",
    "for n_clusters in range(2, 16):\n",
    "    kmeans = KMeans(n_clusters=n_clusters, random_state=0)\n",
    "    cluster_labels = kmeans.fit_predict(data_for_clustering)\n",
    "    silhouette_avg = silhouette_score(data_for_clustering, cluster_labels)\n",
    "    silhouette_scores.append(silhouette_avg)"
   ]
  },
  {
   "cell_type": "code",
   "execution_count": null,
   "id": "8b7a7bcb",
   "metadata": {},
   "outputs": [],
   "source": [
    "plt.plot(range(2, 16), silhouette_scores, marker='o', linestyle='--')\n",
    "plt.xlabel('Número de Clusters')\n",
    "plt.ylabel('Coeficiente de Silhueta')\n",
    "plt.title('Coeficiente de Silhueta para Determinar o Número Ideal de Clusters')\n",
    "plt.show()"
   ]
  },
  {
   "cell_type": "code",
   "execution_count": null,
   "id": "94fdf6ca",
   "metadata": {},
   "outputs": [],
   "source": [
    "df.columns"
   ]
  },
  {
   "cell_type": "code",
   "execution_count": null,
   "id": "56934f3a",
   "metadata": {},
   "outputs": [],
   "source": [
    "df[df['nm_material']=='PIN�A ALLIS RETA 15 CM - UNIDADE']"
   ]
  },
  {
   "cell_type": "code",
   "execution_count": null,
   "id": "99b078f3",
   "metadata": {},
   "outputs": [],
   "source": [
    "QuantidadeDatas"
   ]
  },
  {
   "cell_type": "code",
   "execution_count": null,
   "id": "81bd0e20",
   "metadata": {},
   "outputs": [],
   "source": [
    "# Suponha que você já tenha o DataFrame \"QuantidadeDatas\" com a coluna \"Cluster\" definida\n",
    "\n",
    "# Agrupe o DataFrame por \"Cluster\" e calcule as estatísticas desejadas\n",
    "estatisticas_por_cluster = QuantidadeDatas.groupby('Cluster').agg({\n",
    "    'CompreMedia': 'mean',  # Média\n",
    "    'MediaEstoque': 'mean',  # Mediana\n",
    "    'MinimoEstoque': 'mean',  # Mínimo\n",
    "    'demanda_diaria': 'mean',\n",
    "    'PreçoUnitario' : 'mean'\n",
    "    # Adicione outras colunas e estatísticas desejadas aqui\n",
    "}).reset_index()\n",
    "\n",
    "# Calcule a quantidade de itens por cluster\n",
    "quantidade_itens_por_cluster = QuantidadeDatas['Cluster'].value_counts().reset_index()\n",
    "quantidade_itens_por_cluster.columns = ['Cluster', 'Quantidade_de_Itens']\n",
    "\n",
    "# Renomeie as colunas das estatísticas para maior clareza, se necessário\n",
    "estatisticas_por_cluster = estatisticas_por_cluster.rename(columns={\n",
    "    'Cluster': 'Cluster',\n",
    "    'CompreMedia': 'Media_Compra',\n",
    "    'MediaEstoque': 'Mediana_Estoque',\n",
    "    'Minimo_Estoque': 'Mínimo_Estoque',\n",
    "    'PreçoUnitario' : 'PreçoUnitario'\n",
    "    # Renomeie as colunas conforme necessário\n",
    "})\n",
    "\n",
    "# Exiba as estatísticas por cluster e a quantidade de itens por cluster\n",
    "print(\"Estatísticas por Cluster:\")\n",
    "print(estatisticas_por_cluster)\n",
    "print(\"\\nQuantidade de Itens por Cluster:\")\n",
    "print(quantidade_itens_por_cluster)\n"
   ]
  },
  {
   "cell_type": "code",
   "execution_count": null,
   "id": "d0a94f52",
   "metadata": {
    "scrolled": true
   },
   "outputs": [],
   "source": [
    "\n",
    "ListaComMetricas = []\n",
    "ListaComMetricas.append(['Item','Valor_Real','Previsão','ErroBIAS','ErroABS','r2'])\n",
    "#Query = QuantidadeDatas[(QuantidadeDatas['Cluster']==3)&(QuantidadeDatas['Demanda']>QuantidadeDatas['Demanda'].mean())]['Material'].unique()\n",
    "Query = QuantidadeDatas[(QuantidadeDatas['Cluster']==0)]['Material'].unique()\n",
    "\n",
    "for i in (Query):\n",
    "\n",
    "    #Local para colocar o item a analisar\n",
    "    produtoanalisar = COVID[COVID['nm_material']==i].copy()\n",
    "\n",
    "    #resumo = produtoanalisar.groupby('dt_geracao')['nr_quantidade'].sum().reset_index()\n",
    "    #data = resumo.set_index('dt_geracao')\n",
    "\n",
    "    #Metrica Consumo\n",
    "    #Consumo = produtoanalisar.groupby('nm_material')['nr_quantidade'].sum()\n",
    "    #Consumo = Quantidade.reset_index(drop=True)\n",
    "\n",
    "    #Métrica dias com compra\n",
    "    #contagem_distintos = COVID.groupby('nm_material')['dt_geracao'].nunique()\n",
    "    #DistinctDatas = contagem_distintos.reset_index()\n",
    "\n",
    "    #QuantidadeDatas = pd.merge(Consumo,DistinctDatas,how='inner',on='nm_material')\n",
    "\n",
    "\n",
    "\n",
    "    #estoque = produtoanalisar.groupby('dt_geracao')['nr_qtd_estoque'].mean().reset_index()\n",
    "    #estoque = estoque.set_index('dt_geracao')\n",
    "\n",
    "    produtoanalisar['demanda_diaria'] = -produtoanalisar['nr_qtd_estoque'].diff().fillna(0)\n",
    "    produtoanalisar['demanda_diaria'] = produtoanalisar['demanda_diaria'].apply(lambda x: max(0, x))\n",
    "    Demanda = produtoanalisar.groupby('dt_geracao')['demanda_diaria'].sum().reset_index()\n",
    "    Demanda = Demanda.set_index('dt_geracao')\n",
    "    data_range = Demanda.index\n",
    "\n",
    "    #consumo = produtoanalisar.groupby('dt_geracao')['nr_quantidade'].sum().reset_index()\n",
    "    #consumo = consumo.set_index('dt_geracao')\n",
    "    \n",
    "    to_row = int(len(Demanda)*0.5)\n",
    "    training_data = list(Demanda[0:to_row]['demanda_diaria'])\n",
    "    testing_data = list(Demanda[to_row:]['demanda_diaria'])\n",
    "    \n",
    "    stepwise_fit = auto_arima(Demanda['demanda_diaria'], trace=True,suppress_warnings=True)\n",
    "    \n",
    "    p, d, q = stepwise_fit.order\n",
    "    \n",
    "    model_prediction = []\n",
    "    n_test_obser = len(testing_data)\n",
    "    for j in range(n_test_obser):\n",
    "        #model = sm.tsa.arima.ARIMA(training_data,order=(1,1,1))\n",
    "        model = sm.tsa.arima.ARIMA(training_data,order=(p,d,q))\n",
    "        model_fit = model.fit()\n",
    "        output = model_fit.forecast()\n",
    "        yhat = list(output)[0]\n",
    "        model_prediction.append(yhat)\n",
    "        actual_test_value = testing_data[j]\n",
    "        training_data.append(actual_test_value)\n",
    "        #print(output)\n",
    "        if j == (n_test_obser-1):\n",
    "            pred = pd.DataFrame(model_prediction,columns=['Previsão'])\n",
    "            real = pd.DataFrame(testing_data,columns=['Real'])\n",
    "            result = pd.concat([pred, real], axis=1)\n",
    "            result['Erro'] = result['Previsão'] - result['Real']\n",
    "            ErroBIAS = result['Erro'].sum()\n",
    "            result['Erro_ABS'] = result['Erro'].abs()\n",
    "            ERROABS = result['Erro_ABS'].sum()\n",
    "            PrevisãoVar = result['Previsão'].sum()\n",
    "            ValorRealVar = result['Real'].sum()\n",
    "            valor_real = result['Real']\n",
    "            previsao = result['Previsão']\n",
    "            result['ModeloMedia'] = (Demanda[0:to_row]['demanda_diaria'].mean()*to_row)/len(result)\n",
    "            result['ErroModeloMedia'] = result['ModeloMedia'] - result['Real']\n",
    "            result['ErroQuadrado'] = result['Erro']*result['Erro']\n",
    "            result['ErroModeloMediaQuadrado'] = result['ErroModeloMedia']*result['ErroModeloMedia']\n",
    "            r2 = (result['ErroModeloMediaQuadrado'].sum() - result['ErroQuadrado'].sum())/result['ErroModeloMediaQuadrado'].sum()\n",
    "            linha = [i, ValorRealVar, PrevisãoVar, ErroBIAS,ERROABS,r2]\n",
    "            ListaComMetricas.append(linha)\n",
    "        else:\n",
    "            pass\n"
   ]
  },
  {
   "cell_type": "code",
   "execution_count": null,
   "id": "4eeb9785",
   "metadata": {
    "scrolled": true
   },
   "outputs": [],
   "source": [
    "len(ListaComMetricas)"
   ]
  },
  {
   "cell_type": "code",
   "execution_count": null,
   "id": "a91fb84e",
   "metadata": {},
   "outputs": [],
   "source": [
    "Resultados = pd.DataFrame(ListaComMetricas[1:], columns=ListaComMetricas[0])"
   ]
  },
  {
   "cell_type": "code",
   "execution_count": null,
   "id": "fdf20047",
   "metadata": {},
   "outputs": [],
   "source": [
    "Resultados"
   ]
  },
  {
   "cell_type": "code",
   "execution_count": null,
   "id": "e44a0582",
   "metadata": {},
   "outputs": [],
   "source": [
    "ResultadosCluster0 = Resultados"
   ]
  },
  {
   "cell_type": "code",
   "execution_count": null,
   "id": "81c536b3",
   "metadata": {},
   "outputs": [],
   "source": [
    "#ResultadosCluster3 = Resultados"
   ]
  },
  {
   "cell_type": "code",
   "execution_count": null,
   "id": "cd4c211e",
   "metadata": {},
   "outputs": [],
   "source": [
    "Resultados['%ValorReal'] = 1-(Resultados['Valor_Real'] - Resultados['Previsão'])/Resultados['Valor_Real']"
   ]
  },
  {
   "cell_type": "code",
   "execution_count": null,
   "id": "17a511a6",
   "metadata": {},
   "outputs": [],
   "source": [
    "\n",
    "\n",
    "# Supondo que Resultados é o seu DataFrame\n",
    "Resultados.loc[Resultados['%ValorReal'] < -1, '%ValorReal'] = -1\n",
    "Resultados.loc[Resultados['%ValorReal'] > 1, '%ValorReal'] = 1.1\n"
   ]
  },
  {
   "cell_type": "code",
   "execution_count": null,
   "id": "814221df",
   "metadata": {},
   "outputs": [],
   "source": [
    "Resultados.to_csv('ResultadosPrincipaisMelhorAIC.csv')"
   ]
  },
  {
   "cell_type": "code",
   "execution_count": null,
   "id": "b1f91f8c",
   "metadata": {},
   "outputs": [],
   "source": [
    "Resultados['%ValorReal'].min()"
   ]
  },
  {
   "cell_type": "code",
   "execution_count": null,
   "id": "3b02a9e1",
   "metadata": {},
   "outputs": [],
   "source": [
    "Resultados['%ValorReal'].hist(bins=50)"
   ]
  },
  {
   "cell_type": "code",
   "execution_count": null,
   "id": "5a8f2994",
   "metadata": {},
   "outputs": [],
   "source": [
    "Resultados[Resultados['%ValorReal']>0.25]"
   ]
  },
  {
   "cell_type": "code",
   "execution_count": null,
   "id": "f363ac46",
   "metadata": {},
   "outputs": [],
   "source": [
    "#ResultadosCluster1 = Resultados"
   ]
  },
  {
   "cell_type": "code",
   "execution_count": null,
   "id": "96ceee50",
   "metadata": {},
   "outputs": [],
   "source": [
    "#ResultadosCluster4 = Resultados"
   ]
  },
  {
   "cell_type": "code",
   "execution_count": null,
   "id": "00d908f4",
   "metadata": {},
   "outputs": [],
   "source": [
    "for cluster_num in range(n_clusters):\n",
    "    cluster_data = QuantidadeDatas[QuantidadeDatas['Cluster'] == cluster_num]\n",
    "    plt.scatter(cluster_data['CompreMedia'], cluster_data['MediaEstoque'], label=f'Cluster {cluster_num}')\n",
    "\n",
    "plt.xlabel('Compra Media')\n",
    "plt.ylabel('Estoque Medio')\n",
    "plt.title('Gráfico de Dispersão dos Clusters')\n",
    "plt.legend()\n",
    "plt.show()"
   ]
  },
  {
   "cell_type": "code",
   "execution_count": null,
   "id": "d2c3ce3c",
   "metadata": {},
   "outputs": [],
   "source": [
    "\n",
    "for cluster_num in range(n_clusters):\n",
    "    cluster_data = QuantidadeDatas[QuantidadeDatas['Cluster'] == cluster_num]\n",
    "    plt.scatter(cluster_data['demanda_diaria'], cluster_data['MediaEstoque'], label=f'Cluster {cluster_num}')\n",
    "\n",
    "plt.xlabel('demanda_diaria')\n",
    "plt.ylabel('Estoque Medio')\n",
    "plt.title('Gráfico de Dispersão dos Clusters')\n",
    "plt.legend()\n",
    "plt.show()"
   ]
  },
  {
   "cell_type": "code",
   "execution_count": null,
   "id": "40f84fb3",
   "metadata": {},
   "outputs": [],
   "source": [
    "for i in (QuantidadeDatas[QuantidadeDatas['Cluster'] ==0]['Material']):\n",
    "    tiara = df[df['nm_material']==i].copy()\n",
    "    tiara['demanda_diaria'] = -tiara['nr_qtd_estoque'].diff().fillna(0)\n",
    "    tiara['demanda_diaria'] = tiara['demanda_diaria'].apply(lambda x: max(0, x))\n",
    "    estoque = tiara.groupby('dt_geracao')['nr_qtd_estoque'].mean().reset_index()\n",
    "    estoque = estoque.set_index('dt_geracao')\n",
    "    Demanda = tiara.groupby('dt_geracao')['demanda_diaria'].sum().reset_index()\n",
    "    data_range = Demanda.index\n",
    "    Demanda = Demanda.set_index('dt_geracao')\n",
    "    consumo = tiara.groupby('dt_geracao')['nr_quantidade'].sum().reset_index()\n",
    "    consumo = consumo.set_index('dt_geracao')\n",
    "    plt.figure(figsize=(10,6))\n",
    "    plt.grid(True)\n",
    "    plt.xlabel('Dates')\n",
    "    plt.ylabel('Quantidade')\n",
    "    plt.plot(data_range,estoque,color='red',linestyle='dashed',label='Estoque')\n",
    "    #plt.plot(data_range,data,color='red',label='Compra')\n",
    "    plt.plot(data_range,Demanda,color='black',label='Demanda',alpha=0.7)\n",
    "    plt.plot(data_range,consumo,color='green',label='Compra',alpha=0.5)\n",
    "    #plt.plot(estoque)\n",
    "    plt.title(i) \n",
    "    plt.legend()"
   ]
  },
  {
   "cell_type": "code",
   "execution_count": null,
   "id": "e3e2b7a2",
   "metadata": {},
   "outputs": [],
   "source": [
    "Resultados[(Resultados['ErroBIAS']>(-200))&(Resultados['ErroBIAS']<200)&(Resultados['Valor_Real']>1000)].sort_values(by='ErroABS', ascending=True)"
   ]
  },
  {
   "cell_type": "code",
   "execution_count": null,
   "id": "edfc166c",
   "metadata": {},
   "outputs": [],
   "source": [
    "#Resultados.to_csv('ResultadoAnalisarTableau.csv')"
   ]
  },
  {
   "cell_type": "markdown",
   "id": "4a570669",
   "metadata": {},
   "source": [
    "# Previsão de apenas um item"
   ]
  },
  {
   "cell_type": "code",
   "execution_count": null,
   "id": "e0b72f8b",
   "metadata": {
    "scrolled": false
   },
   "outputs": [],
   "source": [
    "#Selecionar item\n",
    "tiara = df[df['nm_material']=='nm_material'].copy()\n",
    "tiara['demanda_diaria'] = -tiara['nr_qtd_estoque'].diff().fillna(0)\n",
    "tiara['demanda_diaria'] = tiara['demanda_diaria'].apply(lambda x: max(0, x))\n",
    "estoque = tiara.groupby('dt_geracao')['nr_qtd_estoque'].mean().reset_index()\n",
    "Demanda = tiara.groupby('dt_geracao')['demanda_diaria'].sum().reset_index()\n",
    "data_range = Demanda.index\n",
    "Demanda = Demanda.set_index('dt_geracao')\n",
    "consumo = tiara.groupby('dt_geracao')['nr_quantidade'].sum().reset_index()\n",
    "consumo = consumo.set_index('dt_geracao')\n",
    "plt.figure(figsize=(10,6))\n",
    "plt.grid(True)\n",
    "plt.xlabel('Dates')\n",
    "plt.ylabel('Quantidade')\n",
    "plt.plot(Demanda.index,estoque,color='red',linestyle='dashed',label='Estoque')\n",
    "#plt.plot(data_range,data,color='red',label='Compra')\n",
    "plt.plot(Demanda.index,Demanda,color='black',label='Demanda',alpha=0.7)\n",
    "plt.plot(Demanda.index,consumo,color='green',label='Compra',alpha=0.5)\n",
    "#plt.plot(estoque)\n",
    "plt.legend()\n",
    "\n",
    "to_row = int(len(Demanda)*0.5)\n",
    "training_data = list(Demanda[0:to_row]['demanda_diaria'])\n",
    "testing_data = list(Demanda[to_row:]['demanda_diaria'])\n",
    "Demanda[0:to_row]['demanda_diaria'].mean()*to_row\n",
    "plt.figure(figsize=(10,6))\n",
    "plt.grid(True)\n",
    "plt.xlabel('Dates')\n",
    "plt.ylabel('Demanda')\n",
    "plt.plot(Demanda[0:to_row]['demanda_diaria'],'green',label='Train data')\n",
    "plt.plot(Demanda[to_row:]['demanda_diaria'],'blue',label='Test data')\n",
    "#plt.plot(estoque)\n",
    "plt.legend()\n",
    "\n",
    "stepwise_fit = auto_arima(Demanda['demanda_diaria'], trace=True,\n",
    "suppress_warnings=True)\n",
    "p, d, q = stepwise_fit.order\n",
    "model_prediction = []\n",
    "n_test_obser = len(testing_data)\n",
    "if p == 0 and d == 0 and q == 0:\n",
    "    p, d, q = 1, 1, 1\n",
    "else:\n",
    "    pass\n",
    "print(p, d, q)\n",
    "\n",
    "for i in range(n_test_obser):\n",
    "    model = sm.tsa.arima.ARIMA(training_data,order=(p,d,q))\n",
    "    #model = sm.tsa.arima.ARIMA(training_data,order=(1,1,1))\n",
    "    model_fit = model.fit()\n",
    "    output = model_fit.forecast()\n",
    "    yhat = list(output)[0]\n",
    "    model_prediction.append(yhat)\n",
    "    actual_test_value = testing_data[i]\n",
    "    training_data.append(actual_test_value)\n",
    "    #print(output)\n",
    "    \n",
    "print(model_fit.summary())\n",
    "\n",
    "plt.figure(figsize=(15,9))\n",
    "plt.grid(True)\n",
    "\n",
    "data_range = Demanda[to_row:].index\n",
    "\n",
    "plt.plot(data_range,model_prediction,color='blue',label='Previsão')\n",
    "plt.plot(data_range,testing_data,color='red',label='real')\n",
    "plt.title('Previsão')\n",
    "plt.xlabel('Data')\n",
    "plt.ylabel('Consumo')\n",
    "plt.legend()\n",
    "plt.show()\n",
    "\n",
    "pred = pd.DataFrame(model_prediction,columns=['Previsão'])\n",
    "real = pd.DataFrame(testing_data,columns=['Real'])\n",
    "result = pd.concat([pred, real], axis=1)\n",
    "result['Erro'] = result['Previsão'] - result['Real']\n",
    "#Valor Real\n",
    "ValorRealVar = result['Real'].sum()\n",
    "PrevisãoVar = result['Previsão'].sum()\n",
    "Rmediasimples = Demanda[0:to_row]['demanda_diaria'].mean()*to_row/ValorRealVar\n",
    "Rprev = PrevisãoVar/ValorRealVar\n",
    "print('Valor Real')\n",
    "print(ValorRealVar)\n",
    "print('Previsão')\n",
    "print(PrevisãoVar)\n",
    "print('Erro')\n",
    "print(result['Erro'].sum())\n",
    "print('Modelo Mais Simples de Media')\n",
    "\n",
    "print(Demanda[0:to_row]['demanda_diaria'].mean()*to_row/ValorRealVar)\n",
    "result['ModeloMedia'] = (Demanda[0:to_row]['demanda_diaria'].mean()*to_row)/len(result)\n",
    "result['ErroModeloMedia'] = result['ModeloMedia'] - result['Real']\n",
    "result['ErroQuadrado'] = result['Erro']*result['Erro']\n",
    "result['ErroModeloMediaQuadrado'] = result['ErroModeloMedia']*result['ErroModeloMedia']\n",
    "\n",
    "\n",
    "print('R2')\n",
    "print((result['ErroModeloMediaQuadrado'].sum() - result['ErroQuadrado'].sum())/result['ErroModeloMediaQuadrado'].sum())"
   ]
  },
  {
   "cell_type": "code",
   "execution_count": null,
   "id": "367ac8c6",
   "metadata": {},
   "outputs": [],
   "source": [
    "(Demanda[0:to_row]['demanda_diaria'].mean()*to_row)/len(result)"
   ]
  },
  {
   "cell_type": "code",
   "execution_count": null,
   "id": "e6100399",
   "metadata": {},
   "outputs": [],
   "source": [
    "result['ModeloMedia'] = (Demanda[0:to_row]['demanda_diaria'].mean()*to_row)/len(result)"
   ]
  },
  {
   "cell_type": "code",
   "execution_count": null,
   "id": "8c7381d6",
   "metadata": {},
   "outputs": [],
   "source": [
    "result['ErroModeloMedia'] = result['ModeloMedia'] - result['Real']"
   ]
  },
  {
   "cell_type": "code",
   "execution_count": null,
   "id": "a6573724",
   "metadata": {},
   "outputs": [],
   "source": [
    "result['ErroQuadrado'] = result['Erro']*result['Erro']\n",
    "result['ErroModeloMediaQuadrado'] = result['ErroModeloMedia']*result['ErroModeloMedia']"
   ]
  },
  {
   "cell_type": "code",
   "execution_count": null,
   "id": "dc7b2fb2",
   "metadata": {},
   "outputs": [],
   "source": [
    "(result['ErroModeloMediaQuadrado'].sum() - result['ErroQuadrado'].sum())/result['ErroModeloMediaQuadrado'].sum()"
   ]
  },
  {
   "cell_type": "code",
   "execution_count": null,
   "id": "803bc1c1",
   "metadata": {},
   "outputs": [],
   "source": [
    "COVID_unit = df[(df['ano']==2020)|(df['ano']==2021)]\n",
    "COVID_unit = COVID_unit.sort_values(by=['nm_material', 'dt_geracao'])\n",
    "produtoanalisar = COVID_unit[COVID_unit['nm_material']=='ALTEPLASE, 50 MG, P� LI�FILO'].copy()\n",
    "\n",
    "\n",
    "\n",
    "produtoanalisar['demanda_diaria'] = -produtoanalisar['nr_qtd_estoque'].diff().fillna(0)\n",
    "produtoanalisar['demanda_diaria'] = produtoanalisar['demanda_diaria'].apply(lambda x: max(0, x))\n",
    "Demanda = produtoanalisar.groupby('dt_geracao')['demanda_diaria'].sum().reset_index()\n",
    "Demanda = Demanda.set_index('dt_geracao')\n",
    "data_range = Demanda.index\n"
   ]
  },
  {
   "cell_type": "code",
   "execution_count": null,
   "id": "60e3c86a",
   "metadata": {},
   "outputs": [],
   "source": [
    "Demanda.plot()"
   ]
  },
  {
   "cell_type": "code",
   "execution_count": null,
   "id": "a28cf717",
   "metadata": {},
   "outputs": [],
   "source": [
    "COVID_unit = df[(df['ano']==2020)|(df['ano']==2021)]\n",
    "COVID_unit = COVID_unit.sort_values(by=['nm_material', 'dt_geracao'])\n",
    "produtoanalisar = COVID_unit[COVID_unit['nm_material']=='EQUIPO MACROGOTAS PARA NUTRI��O ENTERAL'].copy()\n",
    "\n",
    "\n",
    "\n",
    "produtoanalisar['demanda_diaria'] = -produtoanalisar['nr_qtd_estoque'].diff().fillna(0)\n",
    "produtoanalisar['demanda_diaria'] = produtoanalisar['demanda_diaria'].apply(lambda x: max(0, x))\n",
    "Demanda = produtoanalisar.groupby('dt_geracao')['demanda_diaria'].sum().reset_index()\n",
    "Demanda = Demanda.set_index('dt_geracao')\n",
    "data_range = Demanda.index\n",
    "\n",
    "    #consumo = produtoanalisar.groupby('dt_geracao')['nr_quantidade'].sum().reset_index()\n",
    "    #consumo = consumo.set_index('dt_geracao')\n",
    "    \n",
    "to_row = int(len(Demanda)*0.5)\n",
    "training_data = list(Demanda[0:to_row]['demanda_diaria'])\n",
    "testing_data = list(Demanda[to_row:]['demanda_diaria'])\n",
    "    \n",
    "    #stepwise_fit = auto_arima(Demanda['demanda_diaria'], trace=True,suppress_warnings=True)\n",
    "    \n",
    "    #p, d, q = stepwise_fit.order\n",
    "ListaComMetricas_unit = []\n",
    "ListaComMetricas_unit.append(['Item','Valor_Real','Previsão','ErroBIAS','ErroABS','r2'])    \n",
    "model_prediction_sing = []\n",
    "\n",
    "\n",
    "model = sm.tsa.arima.ARIMA(training_data,order=(0,1,1))\n",
    "#model = sm.tsa.arima.ARIMA(training_data,order=(p,d,q))\n",
    "model_fit = model.fit()\n",
    "output = model_fit.forecast()\n",
    "yhat = list(output)[0]\n",
    "model_prediction_sing.append(yhat)\n",
    "actual_test_value = testing_data[j]\n",
    "training_data.append(actual_test_value)\n",
    "\n",
    "pred = pd.DataFrame(model_prediction,columns=['Previsão'])\n",
    "real = pd.DataFrame(testing_data,columns=['Real'])\n",
    "result = pd.concat([pred, real], axis=1)\n",
    "result['Erro'] = result['Previsão'] - result['Real']\n",
    "ErroBIAS = result['Erro'].sum()\n",
    "result['Erro_ABS'] = result['Erro'].abs()\n",
    "ERROABS = result['Erro_ABS'].sum()\n",
    "PrevisãoVar = result['Previsão'].sum()\n",
    "ValorRealVar = result['Real'].sum()\n",
    "valor_real = result['Real']\n",
    "previsao = result['Previsão']\n",
    "\n"
   ]
  },
  {
   "cell_type": "code",
   "execution_count": null,
   "id": "250d6544",
   "metadata": {},
   "outputs": [],
   "source": []
  },
  {
   "cell_type": "code",
   "execution_count": null,
   "id": "016c5ee1",
   "metadata": {},
   "outputs": [],
   "source": [
    "print(model_fit.summary())"
   ]
  },
  {
   "cell_type": "code",
   "execution_count": null,
   "id": "55664109",
   "metadata": {},
   "outputs": [],
   "source": [
    "(sum(training_data)/len(training_data))*to_row"
   ]
  },
  {
   "cell_type": "code",
   "execution_count": null,
   "id": "408dbae0",
   "metadata": {
    "scrolled": true
   },
   "outputs": [],
   "source": [
    "real.sum()"
   ]
  },
  {
   "cell_type": "code",
   "execution_count": null,
   "id": "c4c5804a",
   "metadata": {},
   "outputs": [],
   "source": [
    "result.sum()"
   ]
  },
  {
   "cell_type": "code",
   "execution_count": null,
   "id": "745ec317",
   "metadata": {},
   "outputs": [],
   "source": [
    "plt.figure(figsize=(15,9))\n",
    "plt.grid(True)\n",
    "\n",
    "data_range = Demanda[to_row:].index\n",
    "\n",
    "plt.plot(data_range,model_prediction_sing,color='blue',marker='o',linestyle='dashed',label='Previsão')\n",
    "plt.plot(data_range,testing_data,color='red',label='real')\n",
    "plt.title('Previsão')\n",
    "plt.xlabel('Data')\n",
    "plt.ylabel('Consumo')\n",
    "plt.legend()\n",
    "plt.show()"
   ]
  },
  {
   "cell_type": "code",
   "execution_count": null,
   "id": "1fe9f702",
   "metadata": {
    "scrolled": true
   },
   "outputs": [],
   "source": [
    "QuantidadeDatas"
   ]
  },
  {
   "cell_type": "markdown",
   "id": "d637dac4",
   "metadata": {},
   "source": [
    "# Gráfico de Previsão"
   ]
  },
  {
   "cell_type": "code",
   "execution_count": null,
   "id": "2eaa0121",
   "metadata": {
    "scrolled": false
   },
   "outputs": [],
   "source": [
    "\n",
    "ListaComMetricas = []\n",
    "ListaComMetricas.append(['Item','Valor_Real','Previsão','ErroBIAS','ErroABS','r2'])\n",
    "#Query = QuantidadeDatas[(QuantidadeDatas['Cluster']==3)&(QuantidadeDatas['Demanda']>QuantidadeDatas['Demanda'].mean())]['Material'].unique()\n",
    "Query = QuantidadeDatas[(QuantidadeDatas['Cluster']==0)]['Material'].unique()\n",
    "\n",
    "for i in (Query):\n",
    "\n",
    "    #Local para colocar o item a analisar\n",
    "    produtoanalisar = COVID[COVID['nm_material']==i].copy()\n",
    "\n",
    "    #resumo = produtoanalisar.groupby('dt_geracao')['nr_quantidade'].sum().reset_index()\n",
    "    #data = resumo.set_index('dt_geracao')\n",
    "\n",
    "    #Metrica Consumo\n",
    "    #Consumo = produtoanalisar.groupby('nm_material')['nr_quantidade'].sum()\n",
    "    #Consumo = Quantidade.reset_index(drop=True)\n",
    "\n",
    "    #Métrica dias com compra\n",
    "    #contagem_distintos = COVID.groupby('nm_material')['dt_geracao'].nunique()\n",
    "    #DistinctDatas = contagem_distintos.reset_index()\n",
    "\n",
    "    #QuantidadeDatas = pd.merge(Consumo,DistinctDatas,how='inner',on='nm_material')\n",
    "\n",
    "\n",
    "\n",
    "    #estoque = produtoanalisar.groupby('dt_geracao')['nr_qtd_estoque'].mean().reset_index()\n",
    "    #estoque = estoque.set_index('dt_geracao')\n",
    "\n",
    "    produtoanalisar['demanda_diaria'] = -produtoanalisar['nr_qtd_estoque'].diff().fillna(0)\n",
    "    produtoanalisar['demanda_diaria'] = produtoanalisar['demanda_diaria'].apply(lambda x: max(0, x))\n",
    "    Demanda = produtoanalisar.groupby('dt_geracao')['demanda_diaria'].sum().reset_index()\n",
    "    Demanda = Demanda.set_index('dt_geracao')\n",
    "    data_range = Demanda.index\n",
    "\n",
    "    #consumo = produtoanalisar.groupby('dt_geracao')['nr_quantidade'].sum().reset_index()\n",
    "    #consumo = consumo.set_index('dt_geracao')\n",
    "    \n",
    "    to_row = int(len(Demanda)*0.5)\n",
    "    training_data = list(Demanda[0:to_row]['demanda_diaria'])\n",
    "    testing_data = list(Demanda[to_row:]['demanda_diaria'])\n",
    "    \n",
    "    stepwise_fit = auto_arima(Demanda['demanda_diaria'], trace=True,suppress_warnings=True)\n",
    "    print('aqui1')\n",
    "    p, d, q = stepwise_fit.order\n",
    "    print('aqui2')\n",
    "    model_prediction = []\n",
    "    n_test_obser = len(testing_data)\n",
    "    for j in range(n_test_obser):\n",
    "        #model = sm.tsa.arima.ARIMA(training_data,order=(1,1,1))\n",
    "        model = sm.tsa.arima.ARIMA(training_data,order=(p,d,q))\n",
    "        model_fit = model.fit()\n",
    "        output = model_fit.forecast()\n",
    "        yhat = list(output)[0]\n",
    "        model_prediction.append(yhat)\n",
    "        actual_test_value = testing_data[j]\n",
    "        training_data.append(actual_test_value)\n",
    "        #print(output)\n",
    "        if j == (n_test_obser-1):\n",
    "            pred = pd.DataFrame(model_prediction,columns=['Previsão'])\n",
    "            real = pd.DataFrame(testing_data,columns=['Real'])\n",
    "            result = pd.concat([pred, real], axis=1)\n",
    "            result['Erro'] = result['Previsão'] - result['Real']\n",
    "            ErroBIAS = result['Erro'].sum()\n",
    "            result['Erro_ABS'] = result['Erro'].abs()\n",
    "            ERROABS = result['Erro_ABS'].sum()\n",
    "            PrevisãoVar = result['Previsão'].sum()\n",
    "            ValorRealVar = result['Real'].sum()\n",
    "            valor_real = result['Real']\n",
    "            previsao = result['Previsão']\n",
    "            result['ModeloMedia'] = (Demanda[0:to_row]['demanda_diaria'].mean()*to_row)/len(result)\n",
    "            result['ErroModeloMedia'] = result['ModeloMedia'] - result['Real']\n",
    "            result['ErroQuadrado'] = result['Erro']*result['Erro']\n",
    "            result['ErroModeloMediaQuadrado'] = result['ErroModeloMedia']*result['ErroModeloMedia']\n",
    "            r2 = (result['ErroModeloMediaQuadrado'].sum() - result['ErroQuadrado'].sum())/result['ErroModeloMediaQuadrado'].sum()\n",
    "            linha = [i, ValorRealVar, PrevisãoVar, ErroBIAS,ERROABS,r2]\n",
    "            ListaComMetricas.append(linha)\n",
    "            \n",
    "            \n",
    "            print('aqui')\n",
    "            plt.plot(model_prediction,color='blue',marker='o',linestyle='dashed',label='Previsão')\n",
    "            plt.plot(testing_data,color='red',label='real')\n",
    "            plt.title('Previsão')\n",
    "            plt.xlabel('Data')\n",
    "            plt.ylabel('Consumo')\n",
    "            plt.legend()\n",
    "            plt.show()\n",
    "        else:\n",
    "            pass\n",
    "        \n",
    "    \n"
   ]
  },
  {
   "cell_type": "code",
   "execution_count": null,
   "id": "4881be6d",
   "metadata": {},
   "outputs": [],
   "source": [
    "len(data_range)"
   ]
  },
  {
   "cell_type": "code",
   "execution_count": null,
   "id": "796563ed",
   "metadata": {},
   "outputs": [],
   "source": [
    "len(ListaComMetricas)"
   ]
  },
  {
   "cell_type": "code",
   "execution_count": null,
   "id": "72952b98",
   "metadata": {},
   "outputs": [],
   "source": []
  }
 ],
 "metadata": {
  "kernelspec": {
   "display_name": "Python 3 (ipykernel)",
   "language": "python",
   "name": "python3"
  },
  "language_info": {
   "codemirror_mode": {
    "name": "ipython",
    "version": 3
   },
   "file_extension": ".py",
   "mimetype": "text/x-python",
   "name": "python",
   "nbconvert_exporter": "python",
   "pygments_lexer": "ipython3",
   "version": "3.9.13"
  }
 },
 "nbformat": 4,
 "nbformat_minor": 5
}
